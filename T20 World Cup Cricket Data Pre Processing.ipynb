{
 "cells": [
  {
   "cell_type": "markdown",
   "id": "f035e2e9",
   "metadata": {},
   "source": [
    "<h1 align=\"center\" style=\"color:green\"> T20 World Cup Cricket Data Pre Processing </h1>"
   ]
  },
  {
   "cell_type": "code",
   "execution_count": 1,
   "id": "acfb08f9",
   "metadata": {},
   "outputs": [],
   "source": [
    "#import necessary libraries\n",
    "\n",
    "import pandas as pd\n",
    "import json"
   ]
  },
  {
   "cell_type": "markdown",
   "id": "05cacd31",
   "metadata": {},
   "source": [
    "<h4 style=\"color:green\">(1) Process Match Results</h4>"
   ]
  },
  {
   "cell_type": "code",
   "execution_count": null,
   "id": "aacf78ef",
   "metadata": {},
   "outputs": [],
   "source": []
  }
 ],
 "metadata": {
  "kernelspec": {
   "display_name": "Python 3 (ipykernel)",
   "language": "python",
   "name": "python3"
  },
  "language_info": {
   "codemirror_mode": {
    "name": "ipython",
    "version": 3
   },
   "file_extension": ".py",
   "mimetype": "text/x-python",
   "name": "python",
   "nbconvert_exporter": "python",
   "pygments_lexer": "ipython3",
   "version": "3.11.5"
  }
 },
 "nbformat": 4,
 "nbformat_minor": 5
}
